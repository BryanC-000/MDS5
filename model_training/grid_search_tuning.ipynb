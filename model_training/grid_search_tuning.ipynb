{
  "cells": [
    {
      "cell_type": "markdown",
      "metadata": {
        "id": "4EMAoU5yoE1O"
      },
      "source": [
        "# Importing Necessary Libraries"
      ]
    },
    {
      "cell_type": "code",
      "execution_count": 1,
      "metadata": {
        "id": "JujhuFmxmcnb"
      },
      "outputs": [],
      "source": [
        "import keras\n",
        "import gc\n",
        "from keras import backend as K\n",
        "from keras.applications import ResNet50, InceptionV3, InceptionResNetV2\n",
        "from sklearn.metrics import confusion_matrix, accuracy_score, precision_score, recall_score, f1_score, classification_report\n",
        "import model_building_evaluation as mds5\n",
        "import numpy as np\n",
        "import matplotlib.pyplot as plt\n",
        "%matplotlib inline"
      ]
    },
    {
      "cell_type": "markdown",
      "metadata": {},
      "source": [
        "# Grid Search\n",
        "Performs a grid search on different combinations of parameters to obtain the best resulting combination for each model architecture."
      ]
    },
    {
      "cell_type": "code",
      "execution_count": 8,
      "metadata": {},
      "outputs": [
        {
          "name": "stderr",
          "output_type": "stream",
          "text": [
            "100%|██████████| 102/102 [00:01<00:00, 84.10it/s]\n",
            "100%|██████████| 101/101 [00:01<00:00, 81.73it/s]\n",
            "100%|██████████| 101/101 [00:01<00:00, 83.47it/s]\n",
            "100%|██████████| 101/101 [00:01<00:00, 79.06it/s]\n"
          ]
        },
        {
          "name": "stdout",
          "output_type": "stream",
          "text": [
            "2/2 [==============================] - 2s 231ms/step\n",
            "batch size: 16, learning rate: 0.001, include: True, optimizer: adam\n",
            "\taccuracy: 0.7333333333333333, precision: 0.775, recall: 0.7301448551448552, f1-score: 0.735568140299598\n",
            "2/2 [==============================] - 3s 239ms/step\n",
            "batch size: 16, learning rate: 0.001, include: True, optimizer: rmsprop\n",
            "\taccuracy: 0.7666666666666667, precision: 0.7644162210338681, recall: 0.7707292707292708, f1-score: 0.7638582782341548\n",
            "2/2 [==============================] - 3s 237ms/step\n",
            "batch size: 16, learning rate: 0.001, include: True, optimizer: nadam\n",
            "\taccuracy: 0.75, precision: 0.8118700265251989, recall: 0.7350149850149851, f1-score: 0.757703081232493\n",
            "2/2 [==============================] - 2s 235ms/step\n",
            "batch size: 16, learning rate: 0.001, include: False, optimizer: adam\n",
            "\taccuracy: 0.8166666666666667, precision: 0.8244969040247678, recall: 0.8349150849150849, f1-score: 0.8260616426641124\n",
            "2/2 [==============================] - 3s 236ms/step\n",
            "batch size: 16, learning rate: 0.001, include: False, optimizer: rmsprop\n",
            "\taccuracy: 0.8333333333333334, precision: 0.850974025974026, recall: 0.8205544455544456, f1-score: 0.8311312877686607\n",
            "2/2 [==============================] - 3s 238ms/step\n",
            "batch size: 16, learning rate: 0.001, include: False, optimizer: nadam\n",
            "\taccuracy: 0.7666666666666667, precision: 0.7727272727272728, recall: 0.7686063936063936, f1-score: 0.7701410658307211\n",
            "2/2 [==============================] - 3s 235ms/step\n",
            "batch size: 16, learning rate: 0.0005, include: True, optimizer: adam\n",
            "\taccuracy: 0.7833333333333333, precision: 0.7819548872180451, recall: 0.7978271728271729, f1-score: 0.7875132555673383\n",
            "2/2 [==============================] - 3s 237ms/step\n",
            "batch size: 16, learning rate: 0.0005, include: True, optimizer: rmsprop\n",
            "\taccuracy: 0.7833333333333333, precision: 0.7882575757575758, recall: 0.78508991008991, f1-score: 0.7819264069264069\n",
            "2/2 [==============================] - 3s 241ms/step\n",
            "batch size: 16, learning rate: 0.0005, include: True, optimizer: nadam\n",
            "\taccuracy: 0.7666666666666667, precision: 0.7788326224858733, recall: 0.7815934065934066, f1-score: 0.7699592074592074\n",
            "2/2 [==============================] - 3s 233ms/step\n",
            "batch size: 16, learning rate: 0.0005, include: False, optimizer: adam\n",
            "\taccuracy: 0.7833333333333333, precision: 0.7929154995331466, recall: 0.782967032967033, f1-score: 0.7835040109233657\n",
            "2/2 [==============================] - 3s 239ms/step\n",
            "batch size: 16, learning rate: 0.0005, include: False, optimizer: rmsprop\n",
            "\taccuracy: 0.8833333333333333, precision: 0.8854166666666666, recall: 0.8773726273726273, f1-score: 0.8789297658862876\n",
            "2/2 [==============================] - 3s 236ms/step\n",
            "batch size: 16, learning rate: 0.0005, include: False, optimizer: nadam\n",
            "\taccuracy: 0.8666666666666667, precision: 0.8731962481962482, recall: 0.8562687312687313, f1-score: 0.8576198984281644\n",
            "2/2 [==============================] - 3s 236ms/step\n",
            "batch size: 16, learning rate: 0.0001, include: True, optimizer: adam\n",
            "\taccuracy: 0.8333333333333334, precision: 0.822849025974026, recall: 0.8205544455544456, f1-score: 0.8204369274136716\n",
            "2/2 [==============================] - 3s 242ms/step\n",
            "batch size: 16, learning rate: 0.0001, include: True, optimizer: rmsprop\n",
            "\taccuracy: 0.8333333333333334, precision: 0.8239364801864802, recall: 0.8140609390609391, f1-score: 0.8179915092958572\n",
            "2/2 [==============================] - 3s 241ms/step\n",
            "batch size: 16, learning rate: 0.0001, include: True, optimizer: nadam\n",
            "\taccuracy: 0.7666666666666667, precision: 0.804040404040404, recall: 0.7363886113886113, f1-score: 0.7575752508361203\n",
            "2/2 [==============================] - 3s 233ms/step\n",
            "batch size: 16, learning rate: 0.0001, include: False, optimizer: adam\n",
            "\taccuracy: 0.7833333333333333, precision: 0.8157567049808429, recall: 0.7542457542457544, f1-score: 0.7746114499311431\n",
            "2/2 [==============================] - 3s 247ms/step\n",
            "batch size: 16, learning rate: 0.0001, include: False, optimizer: rmsprop\n",
            "\taccuracy: 0.8, precision: 0.8101674641148326, recall: 0.792957042957043, f1-score: 0.79491341991342\n",
            "2/2 [==============================] - 3s 262ms/step\n",
            "batch size: 16, learning rate: 0.0001, include: False, optimizer: nadam\n",
            "\taccuracy: 0.8166666666666667, precision: 0.8074810606060606, recall: 0.7978271728271729, f1-score: 0.8010822510822511\n",
            "2/2 [==============================] - 3s 254ms/step\n",
            "batch size: 32, learning rate: 0.001, include: True, optimizer: adam\n",
            "\taccuracy: 0.8166666666666667, precision: 0.8306694664031621, recall: 0.8091908091908092, f1-score: 0.817063492063492\n",
            "2/2 [==============================] - 3s 255ms/step\n",
            "batch size: 32, learning rate: 0.001, include: True, optimizer: rmsprop\n",
            "\taccuracy: 0.75, precision: 0.7639492753623188, recall: 0.7493756243756244, f1-score: 0.7526070298184241\n",
            "2/2 [==============================] - 3s 257ms/step\n",
            "batch size: 32, learning rate: 0.001, include: True, optimizer: nadam\n",
            "\taccuracy: 0.8333333333333334, precision: 0.8285889001349528, recall: 0.8397852147852148, f1-score: 0.8317752943415722\n",
            "2/2 [==============================] - 3s 244ms/step\n",
            "batch size: 32, learning rate: 0.001, include: False, optimizer: adam\n",
            "\taccuracy: 0.7, precision: 0.8033088235294118, recall: 0.6589660339660339, f1-score: 0.6947856065503124\n",
            "2/2 [==============================] - 3s 251ms/step\n",
            "batch size: 32, learning rate: 0.001, include: False, optimizer: rmsprop\n",
            "\taccuracy: 0.7333333333333333, precision: 0.7736111111111111, recall: 0.7217782217782218, f1-score: 0.7365203089244852\n",
            "2/2 [==============================] - 2s 249ms/step\n",
            "batch size: 32, learning rate: 0.001, include: False, optimizer: nadam\n",
            "\taccuracy: 0.8, precision: 0.8108031674208145, recall: 0.8056943056943058, f1-score: 0.8056244830438379\n",
            "2/2 [==============================] - 3s 249ms/step\n",
            "batch size: 32, learning rate: 0.0005, include: True, optimizer: adam\n",
            "\taccuracy: 0.8833333333333333, precision: 0.9049908424908425, recall: 0.8576423576423576, f1-score: 0.8739786967418546\n",
            "2/2 [==============================] - 3s 249ms/step\n",
            "batch size: 32, learning rate: 0.0005, include: True, optimizer: rmsprop\n",
            "\taccuracy: 0.7833333333333333, precision: 0.7871347402597403, recall: 0.7864635364635365, f1-score: 0.7855532064834392\n",
            "2/2 [==============================] - 3s 253ms/step\n",
            "batch size: 32, learning rate: 0.0005, include: True, optimizer: nadam\n",
            "\taccuracy: 0.8333333333333334, precision: 0.8380952380952381, recall: 0.8205544455544456, f1-score: 0.8281055900621117\n",
            "2/2 [==============================] - 3s 253ms/step\n",
            "batch size: 32, learning rate: 0.0005, include: False, optimizer: adam\n",
            "\taccuracy: 0.85, precision: 0.8733253588516746, recall: 0.8562687312687313, f1-score: 0.8559194428759647\n",
            "2/2 [==============================] - 3s 247ms/step\n",
            "batch size: 32, learning rate: 0.0005, include: False, optimizer: rmsprop\n",
            "\taccuracy: 0.8, precision: 0.8075402858011554, recall: 0.8040709290709291, f1-score: 0.8054778554778556\n",
            "2/2 [==============================] - 2s 242ms/step\n",
            "batch size: 32, learning rate: 0.0005, include: False, optimizer: nadam\n",
            "\taccuracy: 0.7833333333333333, precision: 0.8020624303232999, recall: 0.7813436563436564, f1-score: 0.7880952380952381\n",
            "2/2 [==============================] - 3s 248ms/step\n",
            "batch size: 32, learning rate: 0.0001, include: True, optimizer: adam\n",
            "\taccuracy: 0.8, precision: 0.833939393939394, recall: 0.7913336663336663, f1-score: 0.8078747860112496\n",
            "2/2 [==============================] - 3s 250ms/step\n",
            "batch size: 32, learning rate: 0.0001, include: True, optimizer: rmsprop\n",
            "\taccuracy: 0.8333333333333334, precision: 0.8462121212121212, recall: 0.8384115884115884, f1-score: 0.837391774891775\n",
            "2/2 [==============================] - 3s 246ms/step\n",
            "batch size: 32, learning rate: 0.0001, include: True, optimizer: nadam\n",
            "\taccuracy: 0.8166666666666667, precision: 0.8309659090909092, recall: 0.8205544455544456, f1-score: 0.8234848484848485\n",
            "2/2 [==============================] - 3s 250ms/step\n",
            "batch size: 32, learning rate: 0.0001, include: False, optimizer: adam\n",
            "\taccuracy: 0.8, precision: 0.817016317016317, recall: 0.8075674325674326, f1-score: 0.8097826086956521\n",
            "2/2 [==============================] - 3s 253ms/step\n",
            "batch size: 32, learning rate: 0.0001, include: False, optimizer: rmsprop\n",
            "\taccuracy: 0.8166666666666667, precision: 0.8337121212121212, recall: 0.827047952047952, f1-score: 0.8254870129870129\n",
            "2/2 [==============================] - 2s 246ms/step\n",
            "batch size: 32, learning rate: 0.0001, include: False, optimizer: nadam\n",
            "\taccuracy: 0.7666666666666667, precision: 0.8060705741626795, recall: 0.7693556443556443, f1-score: 0.7679231337767922\n",
            "Best InceptionResnetV2 model is with batch size: 16, learning rate: 0.0005, include: False, optimizer: rmsprop\n",
            "\taccuracy: 0.8833333333333333\n"
          ]
        }
      ],
      "source": [
        "# Set the base model to one of the following: InceptionResnetV2, InceptionV3, ResNet50\n",
        "base_model = \"InceptionResnetV2\" \n",
        "\n",
        "# Defining hyper parameters to be used\n",
        "optimizers = [\"adam\", \"rmsprop\", \"nadam\"]\n",
        "learning_rates = [0.001, 0.0005, 0.0001]\n",
        "include = [True, False] \n",
        "batch_size = [16, 32]\n",
        "epochs = 50\n",
        "\n",
        "# Defining paths to save model and weights\n",
        "weight_path = f\"weights/weights.{base_model}.hdf5\"\n",
        "save_path=f\"saved_model/{base_model}.h5\"\n",
        "\n",
        "# Creating backbone model\n",
        "if base_model == \"InceptionResnetV2\":\n",
        "    IMG_SIZE = 299\n",
        "    backbone = InceptionResNetV2(weights='imagenet',include_top=False,input_shape=(IMG_SIZE,IMG_SIZE,3))\n",
        "elif base_model == \"InceptionV3\":\n",
        "    IMG_SIZE = 299\n",
        "    backbone = InceptionV3(weights='imagenet',include_top=False,input_shape=(IMG_SIZE,IMG_SIZE,3))\n",
        "else:\t\n",
        "    IMG_SIZE = 224\n",
        "    backbone = ResNet50(weights='imagenet',include_top=False,input_shape=(IMG_SIZE,IMG_SIZE,3))\n",
        "    \n",
        "# Loading dataset images    \n",
        "benign_data = np.array(mds5.Dataset_loader('Photos/Benign',IMG_SIZE))\n",
        "insitu_data = np.array(mds5.Dataset_loader('Photos/InSitu',IMG_SIZE))\n",
        "invasive_data = np.array(mds5.Dataset_loader('Photos/Invasive',IMG_SIZE))\n",
        "normal_data = np.array(mds5.Dataset_loader('Photos/Normal',IMG_SIZE))\n",
        "\n",
        "# Preparing the dataset for training\n",
        "X, Y = mds5.create_labels([benign_data, insitu_data, invasive_data, normal_data], num_class = 4)\n",
        "x_train, x_val, x_test, y_train, y_val, y_test = mds5.train_valid_test_split(X, Y, 0.7)\n",
        "\n",
        "# Grid search to find best combination of hyperparameters\n",
        "best_acc = -np.inf\n",
        "for bs in batch_size:\n",
        "    for lr in learning_rates:\n",
        "        for inc in include:\n",
        "            for opt in optimizers:\n",
        "                K.clear_session()\n",
        "                gc.collect()\n",
        "                \n",
        "                model = mds5.build_model(backbone, lr = lr, opt = opt, include = inc)\n",
        "\n",
        "                history = mds5.train_model(model, x_train, y_train, x_val, y_val, bs, epochs, filepath = weight_path, verbose = 0)\n",
        "\n",
        "                model.load_weights(weight_path) # load the best checkpoint weights\n",
        "                \n",
        "                accuracy, precision, recall, f1 = mds5.evaluate_model(model, x_test, y_test)\n",
        "\n",
        "                print(f\"batch size: {bs}, learning rate: {lr}, include: {inc}, optimizer: {opt}\")\n",
        "                print(f\"\\taccuracy: {accuracy}, precision: {precision}, recall: {recall}, f1-score: {f1}\")\n",
        "                if accuracy > best_acc:\n",
        "                    best_acc = accuracy\n",
        "                    best_history = history\n",
        "                    best_bs = bs\n",
        "                    best_lr = lr\n",
        "                    best_inc = inc\n",
        "                    best_opt = opt\n",
        "                    keras.models.save_model(model, save_path)\n",
        "\n",
        "print(f\"Best {base_model} model is with batch size: {best_bs}, learning rate: {best_lr}, include: {best_inc}, optimizer: {best_opt}\")\n",
        "print(f\"\\taccuracy: {best_acc}\")         "
      ]
    },
    {
      "cell_type": "markdown",
      "metadata": {},
      "source": [
        "# Loading best trained model"
      ]
    },
    {
      "cell_type": "code",
      "execution_count": 11,
      "metadata": {},
      "outputs": [],
      "source": [
        "best_model = keras.models.load_model(save_path)"
      ]
    },
    {
      "cell_type": "markdown",
      "metadata": {},
      "source": [
        "# Plot training progress\n",
        "This is to observe the training and validation accuracies and losses across the trained epochs to monitor if overfitting has occurred"
      ]
    },
    {
      "cell_type": "code",
      "execution_count": 21,
      "metadata": {},
      "outputs": [
        {
          "data": {
            "image/png": "[encoded data removed]",
            "text/plain": [
              "<Figure size 432x288 with 1 Axes>"
            ]
          },
          "metadata": {
            "needs_background": "light"
          },
          "output_type": "display_data"
        }
      ],
      "source": [
        "mds5.plot_training_accuracies(best_history)"
      ]
    },
    {
      "cell_type": "code",
      "execution_count": 22,
      "metadata": {},
      "outputs": [
        {
          "data": {
            "image/png": "[encoded data removed]",
            "text/plain": [
              "<Figure size 432x288 with 1 Axes>"
            ]
          },
          "metadata": {
            "needs_background": "light"
          },
          "output_type": "display_data"
        }
      ],
      "source": [
        "mds5.plot_training_losses(best_history)"
      ]
    },
    {
      "cell_type": "markdown",
      "metadata": {},
      "source": [
        "# K-Fold Cross Validation\n",
        "This is to test the robustness of the model and its ability to generalize to unseen data"
      ]
    },
    {
      "cell_type": "code",
      "execution_count": 12,
      "metadata": {},
      "outputs": [
        {
          "name": "stdout",
          "output_type": "stream",
          "text": [
            "7/7 [==============================] - 26s 887ms/step - loss: 0.0756 - accuracy: 0.9821\n",
            "2/2 [==============================] - 3s 228ms/step\n",
            "              precision    recall  f1-score   support\n",
            "\n",
            "           0       1.00      1.00      1.00        12\n",
            "           1       1.00      0.94      0.97        18\n",
            "           2       0.94      1.00      0.97        15\n",
            "           3       1.00      1.00      1.00        11\n",
            "\n",
            "    accuracy                           0.98        56\n",
            "   macro avg       0.98      0.99      0.98        56\n",
            "weighted avg       0.98      0.98      0.98        56\n",
            "\n",
            "7/7 [==============================] - 6s 886ms/step - loss: 0.1010 - accuracy: 0.9643\n",
            "2/2 [==============================] - 0s 227ms/step\n",
            "              precision    recall  f1-score   support\n",
            "\n",
            "           0       1.00      1.00      1.00        13\n",
            "           1       1.00      1.00      1.00        11\n",
            "           2       1.00      1.00      1.00        13\n",
            "           3       1.00      1.00      1.00        19\n",
            "\n",
            "    accuracy                           1.00        56\n",
            "   macro avg       1.00      1.00      1.00        56\n",
            "weighted avg       1.00      1.00      1.00        56\n",
            "\n",
            "7/7 [==============================] - 6s 887ms/step - loss: 0.1094 - accuracy: 0.9509\n",
            "2/2 [==============================] - 0s 230ms/step\n",
            "              precision    recall  f1-score   support\n",
            "\n",
            "           0       1.00      1.00      1.00        23\n",
            "           1       1.00      1.00      1.00         6\n",
            "           2       1.00      1.00      1.00        16\n",
            "           3       1.00      1.00      1.00        11\n",
            "\n",
            "    accuracy                           1.00        56\n",
            "   macro avg       1.00      1.00      1.00        56\n",
            "weighted avg       1.00      1.00      1.00        56\n",
            "\n",
            "7/7 [==============================] - 6s 883ms/step - loss: 0.1014 - accuracy: 0.9732\n",
            "2/2 [==============================] - 0s 229ms/step\n",
            "              precision    recall  f1-score   support\n",
            "\n",
            "           0       1.00      1.00      1.00         9\n",
            "           1       1.00      1.00      1.00        14\n",
            "           2       1.00      1.00      1.00        16\n",
            "           3       1.00      1.00      1.00        17\n",
            "\n",
            "    accuracy                           1.00        56\n",
            "   macro avg       1.00      1.00      1.00        56\n",
            "weighted avg       1.00      1.00      1.00        56\n",
            "\n",
            "7/7 [==============================] - 6s 889ms/step - loss: 0.0676 - accuracy: 0.9777\n",
            "2/2 [==============================] - 0s 233ms/step\n",
            "              precision    recall  f1-score   support\n",
            "\n",
            "           0       1.00      1.00      1.00        16\n",
            "           1       1.00      1.00      1.00        14\n",
            "           2       1.00      1.00      1.00        11\n",
            "           3       1.00      1.00      1.00        15\n",
            "\n",
            "    accuracy                           1.00        56\n",
            "   macro avg       1.00      1.00      1.00        56\n",
            "weighted avg       1.00      1.00      1.00        56\n",
            "\n"
          ]
        },
        {
          "data": {
            "text/plain": [
              "0.9964285714285716"
            ]
          },
          "execution_count": 12,
          "metadata": {},
          "output_type": "execute_result"
        }
      ],
      "source": [
        "mds5.kfold(5, x_train, y_train, best_model)"
      ]
    },
    {
      "cell_type": "markdown",
      "metadata": {},
      "source": [
        "# Evaluation of standard performance metrics\n",
        "Evaluation of standard performance metrics to compare with literature read"
      ]
    },
    {
      "cell_type": "code",
      "execution_count": 13,
      "metadata": {},
      "outputs": [
        {
          "name": "stdout",
          "output_type": "stream",
          "text": [
            "2/2 [==============================] - 0s 230ms/step\n",
            "accuracy: 0.8833333333333333\n",
            "precision: 0.8854166666666666\n",
            "recall: 0.8773726273726273\n",
            "f1-score: 0.8789297658862876\n"
          ]
        }
      ],
      "source": [
        "accuracy, precision, recall, f1 = mds5.evaluate_model(best_model, x_test, y_test)\n",
        "print(f\"accuracy: {accuracy}\\nprecision: {precision}\\nrecall: {recall}\\nf1-score: {f1}\")"
      ]
    },
    {
      "cell_type": "markdown",
      "metadata": {},
      "source": [
        "# Confusion Matrix\n",
        "To observe if model has a balance performance for all output classes"
      ]
    },
    {
      "cell_type": "code",
      "execution_count": 14,
      "metadata": {},
      "outputs": [
        {
          "name": "stdout",
          "output_type": "stream",
          "text": [
            "2/2 [==============================] - 0s 234ms/step\n"
          ]
        },
        {
          "data": {
            "image/png": "[encoded data removed]",
            "text/plain": [
              "<Figure size 432x288 with 2 Axes>"
            ]
          },
          "metadata": {
            "needs_background": "light"
          },
          "output_type": "display_data"
        }
      ],
      "source": [
        "y_pred = best_model.predict(x_test)\n",
        "cm = mds5.plot_confusion_matrix(y_test, y_pred, ['benign', 'insitu', 'invasive', 'normal'] , title ='Confusion Metrix for Breast Cancer')"
      ]
    },
    {
      "cell_type": "code",
      "execution_count": 15,
      "metadata": {},
      "outputs": [],
      "source": []
    }
  ],
  "metadata": {
    "accelerator": "GPU",
    "colab": {
      "name": "MDS5 Code.ipynb",
      "provenance": [],
      "toc_visible": true
    },
    "gpuClass": "standard",
    "kernelspec": {
      "display_name": "Python 3.9.12 ('mds5')",
      "language": "python",
      "name": "python3"
    },
    "language_info": {
      "codemirror_mode": {
        "name": "ipython",
        "version": 3
      },
      "file_extension": ".py",
      "mimetype": "text/x-python",
      "name": "python",
      "nbconvert_exporter": "python",
      "pygments_lexer": "ipython3",
      "version": "3.9.12"
    },
    "vscode": {
      "interpreter": {
        "hash": "ecb306404246e2b0f0343f57648f4d865aca626000dabc7f8bc4771907b4c3f5"
      }
    }
  },
  "nbformat": 4,
  "nbformat_minor": 0
}
